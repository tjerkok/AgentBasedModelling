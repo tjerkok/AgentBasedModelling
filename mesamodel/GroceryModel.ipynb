{
 "cells": [
  {
   "cell_type": "code",
   "execution_count": 3,
   "id": "3a7f4826",
   "metadata": {},
   "outputs": [
    {
     "name": "stdout",
     "output_type": "stream",
     "text": [
      "Requirement already satisfied: regex in /Users/jorrimprins/.local/share/virtualenvs/Agent_Based_Modelling-rnRIqydo/lib/python3.9/site-packages (2022.1.18)\r\n"
     ]
    },
    {
     "ename": "ModuleNotFoundError",
     "evalue": "No module named 'regex'",
     "output_type": "error",
     "traceback": [
      "\u001b[0;31m---------------------------------------------------------------------------\u001b[0m",
      "\u001b[0;31mModuleNotFoundError\u001b[0m                       Traceback (most recent call last)",
      "\u001b[0;32m/var/folders/h6/4fpd9cc15vl3mr24s7983wxh0000gn/T/ipykernel_82690/3113181554.py\u001b[0m in \u001b[0;36m<module>\u001b[0;34m\u001b[0m\n\u001b[1;32m      1\u001b[0m \u001b[0mget_ipython\u001b[0m\u001b[0;34m(\u001b[0m\u001b[0;34m)\u001b[0m\u001b[0;34m.\u001b[0m\u001b[0msystem\u001b[0m\u001b[0;34m(\u001b[0m\u001b[0;34m'pip install regex'\u001b[0m\u001b[0;34m)\u001b[0m\u001b[0;34m\u001b[0m\u001b[0;34m\u001b[0m\u001b[0m\n\u001b[0;32m----> 2\u001b[0;31m \u001b[0;32mfrom\u001b[0m \u001b[0mmodel\u001b[0m \u001b[0;32mimport\u001b[0m \u001b[0mGroceryModel\u001b[0m\u001b[0;34m\u001b[0m\u001b[0;34m\u001b[0m\u001b[0m\n\u001b[0m\u001b[1;32m      3\u001b[0m \u001b[0;32mimport\u001b[0m \u001b[0mnetworkx\u001b[0m \u001b[0;32mas\u001b[0m \u001b[0mnx\u001b[0m\u001b[0;34m\u001b[0m\u001b[0;34m\u001b[0m\u001b[0m\n\u001b[1;32m      4\u001b[0m \u001b[0;32mimport\u001b[0m \u001b[0mmatplotlib\u001b[0m\u001b[0;34m.\u001b[0m\u001b[0mpyplot\u001b[0m \u001b[0;32mas\u001b[0m \u001b[0mplt\u001b[0m\u001b[0;34m\u001b[0m\u001b[0;34m\u001b[0m\u001b[0m\n\u001b[1;32m      5\u001b[0m \u001b[0;32mimport\u001b[0m \u001b[0mjson\u001b[0m\u001b[0;34m\u001b[0m\u001b[0;34m\u001b[0m\u001b[0m\n",
      "\u001b[0;32m~/Documents/Agent Based Modelling/AgentBasedModelling-project/mesamodel/model.py\u001b[0m in \u001b[0;36m<module>\u001b[0;34m\u001b[0m\n\u001b[1;32m      8\u001b[0m \u001b[0;32mimport\u001b[0m \u001b[0mjson\u001b[0m\u001b[0;34m\u001b[0m\u001b[0;34m\u001b[0m\u001b[0m\n\u001b[1;32m      9\u001b[0m \u001b[0;32mimport\u001b[0m \u001b[0mrandom\u001b[0m\u001b[0;34m\u001b[0m\u001b[0;34m\u001b[0m\u001b[0m\n\u001b[0;32m---> 10\u001b[0;31m \u001b[0;32mimport\u001b[0m \u001b[0mregex\u001b[0m \u001b[0;32mas\u001b[0m \u001b[0mre\u001b[0m\u001b[0;34m\u001b[0m\u001b[0;34m\u001b[0m\u001b[0m\n\u001b[0m\u001b[1;32m     11\u001b[0m \u001b[0;34m\u001b[0m\u001b[0m\n\u001b[1;32m     12\u001b[0m \u001b[0;32mfrom\u001b[0m \u001b[0magent\u001b[0m \u001b[0;32mimport\u001b[0m \u001b[0mPerson\u001b[0m\u001b[0;34m,\u001b[0m \u001b[0mObstacle\u001b[0m\u001b[0;34m\u001b[0m\u001b[0;34m\u001b[0m\u001b[0m\n",
      "\u001b[0;31mModuleNotFoundError\u001b[0m: No module named 'regex'"
     ]
    }
   ],
   "source": [
    "from model import GroceryModel\n",
    "import networkx as nx\n",
    "import matplotlib.pyplot as plt\n",
    "import json"
   ]
  },
  {
   "cell_type": "code",
   "execution_count": 2,
   "id": "b674b6fa",
   "metadata": {},
   "outputs": [],
   "source": [
    "config = {\n",
    "    \"height\": 16,\n",
    "    \"width\": 16,\n",
    "    \"n_persons\": 10,\n",
    "    \"n_items\": 1,\n",
    "    \"grid_layout\": \"grids/vertical_16x16.txt\", \n",
    "    \"avg_arrival\": 1,\n",
    "    \"n_steps\": 1000,\n",
    "    \"speed_dist\": [[1, 2], [.5, .5]], # [[speed], [chances]]\n",
    "    \"familiar_dist\": [[1, 0.6], [.75, .25]],\n",
    "    \"n_objectives\": 4,\n",
    "    \"grid_stepsize\": 0.5,\n",
    "    \"list_subgrids\": [[(8, 15), (15, 15), (15, 8), (8, 8)],\n",
    "                      [(0, 7), (7, 7), (7, 0), (0, 0)]\n",
    "                      ]\n",
    "}\n",
    "\n",
    "# with open('config1.json', 'w') as f:\n",
    "#     json.dump(config, f)"
   ]
  },
  {
   "cell_type": "code",
   "execution_count": 3,
   "id": "244fa7b0",
   "metadata": {},
   "outputs": [],
   "source": [
    "model = GroceryModel(config)"
   ]
  },
  {
   "cell_type": "code",
   "execution_count": 5,
   "id": "579e82a0",
   "metadata": {},
   "outputs": [
    {
     "ename": "SyntaxError",
     "evalue": "invalid syntax (1648779977.py, line 1)",
     "output_type": "error",
     "traceback": [
      "\u001b[0;36m  File \u001b[0;32m\"/var/folders/h6/4fpd9cc15vl3mr24s7983wxh0000gn/T/ipykernel_82427/1648779977.py\"\u001b[0;36m, line \u001b[0;32m1\u001b[0m\n\u001b[0;31m    from .AgentBasedModelling-project.mesamodel.server import GroceryServer\u001b[0m\n\u001b[0m                             ^\u001b[0m\n\u001b[0;31mSyntaxError\u001b[0m\u001b[0;31m:\u001b[0m invalid syntax\n"
     ]
    }
   ],
   "source": [
    "from .AgentBasedModelling-project.mesamodel.server import GroceryServer"
   ]
  },
  {
   "cell_type": "code",
   "execution_count": 4,
   "id": "edd27c34",
   "metadata": {
    "scrolled": true
   },
   "outputs": [
    {
     "name": "stdout",
     "output_type": "stream",
     "text": [
      "arriving!\n",
      "chose speed: 1 and familiar: 1\n",
      "Originally Person 25 has objs ['meat', 'vegetables', 'bread', 'cheese', 'exit']\n",
      "After sorting person 25 has objs [('meat', (9, 4)), ('vegetables', (0, 10)), ('bread', (6, 2)), ('cheese', (0, 2)), ('exit', (2, 0))]\n",
      "Person 25 at (13, 15) has current obj meat at (9, 4)\n",
      "planned move: [(13, 14)]\n",
      "Person 25 at (13, 14) has current obj meat at (9, 4)\n",
      "planned move: [(12, 14)]\n",
      "arriving!\n",
      "chose speed: 2 and familiar: 1\n",
      "Originally Person 26 has objs ['utilities', 'sweets', 'sweets', 'dairy', 'exit']\n",
      "After sorting person 26 has objs [('sweets', (11, 13)), ('sweets', (11, 10)), ('dairy', (6, 9)), ('utilities', (11, 2)), ('exit', (2, 0))]\n",
      "Person 26 at (13, 15) has current obj sweets at (11, 13)\n",
      "planned move: [(12, 15), (12, 14)]\n"
     ]
    },
    {
     "ename": "Exception",
     "evalue": "Cell not empty",
     "output_type": "error",
     "traceback": [
      "\u001b[0;31m---------------------------------------------------------------------------\u001b[0m",
      "\u001b[0;31mException\u001b[0m                                 Traceback (most recent call last)",
      "Input \u001b[0;32mIn [4]\u001b[0m, in \u001b[0;36m<module>\u001b[0;34m\u001b[0m\n\u001b[0;32m----> 1\u001b[0m \u001b[43mmodel\u001b[49m\u001b[38;5;241;43m.\u001b[39;49m\u001b[43mrun_model\u001b[49m\u001b[43m(\u001b[49m\u001b[43m)\u001b[49m\n",
      "File \u001b[0;32m~/My Drive/UvA/Computational Science/Agent Based Modelling/AgentBasedModelling/mesamodel/model.py:135\u001b[0m, in \u001b[0;36mGroceryModel.run_model\u001b[0;34m(self, n_steps)\u001b[0m\n\u001b[1;32m    133\u001b[0m     \u001b[38;5;28mprint\u001b[39m(\u001b[38;5;124mf\u001b[39m\u001b[38;5;124m\"\u001b[39m\u001b[38;5;124marriving!\u001b[39m\u001b[38;5;124m\"\u001b[39m)\n\u001b[1;32m    134\u001b[0m     \u001b[38;5;28mself\u001b[39m\u001b[38;5;241m.\u001b[39madd_person()\n\u001b[0;32m--> 135\u001b[0m \u001b[38;5;28;43mself\u001b[39;49m\u001b[38;5;241;43m.\u001b[39;49m\u001b[43mstep\u001b[49m\u001b[43m(\u001b[49m\u001b[43m)\u001b[49m\n\u001b[1;32m    136\u001b[0m \u001b[38;5;28;01mif\u001b[39;00m \u001b[38;5;28mself\u001b[39m\u001b[38;5;241m.\u001b[39mschedule\u001b[38;5;241m.\u001b[39mget_agent_count() \u001b[38;5;241m==\u001b[39m \u001b[38;5;241m0\u001b[39m \u001b[38;5;129;01mand\u001b[39;00m i \u001b[38;5;241m>\u001b[39m \u001b[38;5;28mself\u001b[39m\u001b[38;5;241m.\u001b[39marrival_times[\u001b[38;5;241m-\u001b[39m\u001b[38;5;241m1\u001b[39m]:\n\u001b[1;32m    137\u001b[0m     \u001b[38;5;28mself\u001b[39m\u001b[38;5;241m.\u001b[39mdatacollector\u001b[38;5;241m.\u001b[39mcollect(\u001b[38;5;28mself\u001b[39m)\n",
      "File \u001b[0;32m~/My Drive/UvA/Computational Science/Agent Based Modelling/AgentBasedModelling/mesamodel/model.py:124\u001b[0m, in \u001b[0;36mGroceryModel.step\u001b[0;34m(self)\u001b[0m\n\u001b[1;32m    120\u001b[0m \u001b[38;5;124;03m\"\"\"\u001b[39;00m\n\u001b[1;32m    121\u001b[0m \u001b[38;5;124;03mCalls step method for each person\u001b[39;00m\n\u001b[1;32m    122\u001b[0m \u001b[38;5;124;03m\"\"\"\u001b[39;00m\n\u001b[1;32m    123\u001b[0m \u001b[38;5;28mself\u001b[39m\u001b[38;5;241m.\u001b[39mdatacollector\u001b[38;5;241m.\u001b[39mcollect(\u001b[38;5;28mself\u001b[39m)\n\u001b[0;32m--> 124\u001b[0m \u001b[38;5;28;43mself\u001b[39;49m\u001b[38;5;241;43m.\u001b[39;49m\u001b[43mschedule\u001b[49m\u001b[38;5;241;43m.\u001b[39;49m\u001b[43mstep\u001b[49m\u001b[43m(\u001b[49m\u001b[43m)\u001b[49m\n",
      "File \u001b[0;32m~/.local/share/virtualenvs/Agent_Based_Modelling-qL6PT7-O/src/mesa/mesa/time.py:125\u001b[0m, in \u001b[0;36mRandomActivation.step\u001b[0;34m(self)\u001b[0m\n\u001b[1;32m    120\u001b[0m \u001b[38;5;124;03m\"\"\"Executes the step of all agents, one at a time, in\u001b[39;00m\n\u001b[1;32m    121\u001b[0m \u001b[38;5;124;03mrandom order.\u001b[39;00m\n\u001b[1;32m    122\u001b[0m \n\u001b[1;32m    123\u001b[0m \u001b[38;5;124;03m\"\"\"\u001b[39;00m\n\u001b[1;32m    124\u001b[0m \u001b[38;5;28;01mfor\u001b[39;00m agent \u001b[38;5;129;01min\u001b[39;00m \u001b[38;5;28mself\u001b[39m\u001b[38;5;241m.\u001b[39magent_buffer(shuffled\u001b[38;5;241m=\u001b[39m\u001b[38;5;28;01mTrue\u001b[39;00m):\n\u001b[0;32m--> 125\u001b[0m     \u001b[43magent\u001b[49m\u001b[38;5;241;43m.\u001b[39;49m\u001b[43mstep\u001b[49m\u001b[43m(\u001b[49m\u001b[43m)\u001b[49m\n\u001b[1;32m    126\u001b[0m \u001b[38;5;28mself\u001b[39m\u001b[38;5;241m.\u001b[39msteps \u001b[38;5;241m+\u001b[39m\u001b[38;5;241m=\u001b[39m \u001b[38;5;241m1\u001b[39m\n\u001b[1;32m    127\u001b[0m \u001b[38;5;28mself\u001b[39m\u001b[38;5;241m.\u001b[39mtime \u001b[38;5;241m+\u001b[39m\u001b[38;5;241m=\u001b[39m \u001b[38;5;241m1\u001b[39m\n",
      "File \u001b[0;32m~/My Drive/UvA/Computational Science/Agent Based Modelling/AgentBasedModelling/mesamodel/agent.py:80\u001b[0m, in \u001b[0;36mPerson.step\u001b[0;34m(self)\u001b[0m\n\u001b[1;32m     78\u001b[0m \u001b[38;5;66;03m# Make move\u001b[39;00m\n\u001b[1;32m     79\u001b[0m \u001b[38;5;28;01mfor\u001b[39;00m move \u001b[38;5;129;01min\u001b[39;00m next_moves:\n\u001b[0;32m---> 80\u001b[0m     \u001b[38;5;28;43mself\u001b[39;49m\u001b[38;5;241;43m.\u001b[39;49m\u001b[43mmodel\u001b[49m\u001b[38;5;241;43m.\u001b[39;49m\u001b[43mgrid\u001b[49m\u001b[38;5;241;43m.\u001b[39;49m\u001b[43mmove_agent\u001b[49m\u001b[43m(\u001b[49m\u001b[38;5;28;43mself\u001b[39;49m\u001b[43m,\u001b[49m\u001b[43m \u001b[49m\u001b[43mmove\u001b[49m\u001b[43m)\u001b[49m\n\u001b[1;32m     81\u001b[0m \u001b[38;5;28;01mif\u001b[39;00m \u001b[38;5;28mself\u001b[39m\u001b[38;5;241m.\u001b[39mpos \u001b[38;5;241m==\u001b[39m \u001b[38;5;28mself\u001b[39m\u001b[38;5;241m.\u001b[39mcurrent_objective[\u001b[38;5;241m1\u001b[39m]:\n\u001b[1;32m     82\u001b[0m     \u001b[38;5;28mself\u001b[39m\u001b[38;5;241m.\u001b[39mreached_objective()\n",
      "File \u001b[0;32m~/.local/share/virtualenvs/Agent_Based_Modelling-qL6PT7-O/src/mesa/mesa/space.py:382\u001b[0m, in \u001b[0;36mGrid.move_agent\u001b[0;34m(self, agent, pos)\u001b[0m\n\u001b[1;32m    380\u001b[0m pos \u001b[38;5;241m=\u001b[39m \u001b[38;5;28mself\u001b[39m\u001b[38;5;241m.\u001b[39mtorus_adj(pos)\n\u001b[1;32m    381\u001b[0m \u001b[38;5;28mself\u001b[39m\u001b[38;5;241m.\u001b[39m_remove_agent(agent\u001b[38;5;241m.\u001b[39mpos, agent)\n\u001b[0;32m--> 382\u001b[0m \u001b[38;5;28;43mself\u001b[39;49m\u001b[38;5;241;43m.\u001b[39;49m\u001b[43m_place_agent\u001b[49m\u001b[43m(\u001b[49m\u001b[43mpos\u001b[49m\u001b[43m,\u001b[49m\u001b[43m \u001b[49m\u001b[43magent\u001b[49m\u001b[43m)\u001b[49m\n\u001b[1;32m    383\u001b[0m agent\u001b[38;5;241m.\u001b[39mpos \u001b[38;5;241m=\u001b[39m pos\n",
      "File \u001b[0;32m~/.local/share/virtualenvs/Agent_Based_Modelling-qL6PT7-O/src/mesa/mesa/space.py:487\u001b[0m, in \u001b[0;36mSingleGrid._place_agent\u001b[0;34m(self, pos, agent)\u001b[0m\n\u001b[1;32m    485\u001b[0m     \u001b[38;5;28msuper\u001b[39m()\u001b[38;5;241m.\u001b[39m_place_agent(pos, agent)\n\u001b[1;32m    486\u001b[0m \u001b[38;5;28;01melse\u001b[39;00m:\n\u001b[0;32m--> 487\u001b[0m     \u001b[38;5;28;01mraise\u001b[39;00m \u001b[38;5;167;01mException\u001b[39;00m(\u001b[38;5;124m\"\u001b[39m\u001b[38;5;124mCell not empty\u001b[39m\u001b[38;5;124m\"\u001b[39m)\n",
      "\u001b[0;31mException\u001b[0m: Cell not empty"
     ]
    }
   ],
   "source": [
    "model.run_model()"
   ]
  },
  {
   "cell_type": "code",
   "execution_count": null,
   "id": "1fbeea72",
   "metadata": {
    "scrolled": false
   },
   "outputs": [],
   "source": [
    "g = model.graph\n",
    "\n",
    "plt.figure(figsize=(config[\"width\"], config[\"height\"]))\n",
    "pos = {(x,y):(x,-y) for x,y in g.nodes()}\n",
    "\n",
    "val_map = {}\n",
    "for x, y in pos:\n",
    "#     if x == 0 or x == config[\"width\"]-1 or y == 0 or y == config[\"height\"]-1:\n",
    "#         val_map[(x,y)] = 0.0\n",
    "        \n",
    "    for coords in model.objectives.values():\n",
    "        if (x,y) in coords:\n",
    "            val_map[(x,y)] = 0.5\n",
    "            \n",
    "    if (x,y) in [obj.pos for obj in model.obstacles]:\n",
    "        val_map[(x,y)] = 0.0\n",
    "        \n",
    "values = [val_map.get(node, 0.25) for node in g.nodes()]\n",
    "\n",
    "nx.draw(g, pos=pos, \n",
    "        node_color=values, \n",
    "        node_size=600)"
   ]
  },
  {
   "cell_type": "code",
   "execution_count": null,
   "id": "6c54947e",
   "metadata": {},
   "outputs": [],
   "source": [
    "# print(g.edges)"
   ]
  },
  {
   "cell_type": "code",
   "execution_count": null,
   "id": "a9345843",
   "metadata": {},
   "outputs": [],
   "source": [
    "data = model.datacollector.get_model_vars_dataframe()"
   ]
  },
  {
   "cell_type": "code",
   "execution_count": null,
   "id": "6ead59d0",
   "metadata": {
    "scrolled": false
   },
   "outputs": [],
   "source": [
    "print(data)"
   ]
  },
  {
   "cell_type": "code",
   "execution_count": null,
   "id": "c3f0b239",
   "metadata": {},
   "outputs": [],
   "source": [
    "for row in data[\"densities\"]:\n",
    "    print(row)"
   ]
  },
  {
   "cell_type": "code",
   "execution_count": null,
   "id": "e58fb4fc",
   "metadata": {},
   "outputs": [],
   "source": []
  }
 ],
 "metadata": {
  "kernelspec": {
   "display_name": "Python 3 (ipykernel)",
   "language": "python",
   "name": "python3"
  },
  "language_info": {
   "codemirror_mode": {
    "name": "ipython",
    "version": 3
   },
   "file_extension": ".py",
   "mimetype": "text/x-python",
   "name": "python",
   "nbconvert_exporter": "python",
   "pygments_lexer": "ipython3",
   "version": "3.9.0"
  }
 },
 "nbformat": 4,
 "nbformat_minor": 5
}
