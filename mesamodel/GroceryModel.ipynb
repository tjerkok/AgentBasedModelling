{
 "cells": [
  {
   "cell_type": "code",
   "execution_count": null,
   "id": "3a7f4826",
   "metadata": {},
   "outputs": [],
   "source": [
    "from model import GroceryModel\n",
    "import networkx as nx\n",
    "import matplotlib.pyplot as plt\n",
    "import json"
   ]
  },
  {
   "cell_type": "code",
   "execution_count": null,
   "id": "b674b6fa",
   "metadata": {},
   "outputs": [],
   "source": [
    "# config = {\n",
    "#     \"height\": 20,\n",
    "#     \"width\": 20,\n",
    "#     \"n_persons\": 5,\n",
    "#     \"n_items\": 1,\n",
    "#     \"grid_layout\": \"grids/sample_20x20.txt\", \n",
    "#     \"avg_arrival\": 4,\n",
    "#     \"n_steps\": 1000,\n",
    "#     \"speed_dist\": [[1, 2], [.5, .5]], # [[speed], [chances]]\n",
    "#     \"familiar_dist\": [[1, 0.6], [.75, .25]],\n",
    "#     \"n_objectives\": 4,\n",
    "#     \"grid_stepsize\": 0.5,\n",
    "#     \"list_subgrids\": [[(8, 15), (15, 15), (15, 8), (8, 8)],\n",
    "#                       [(0, 7), (7, 7), (7, 0), (0, 0)]\n",
    "#                       ]\n",
    "# }\n",
    "\n",
    "with open('config1.json', 'r') as f:\n",
    "        config = json.load(f)\n",
    "        \n",
    "# with open('config1.json', 'w') as f:\n",
    "#     json.dump(config, f)"
   ]
  },
  {
   "cell_type": "code",
   "execution_count": null,
   "id": "244fa7b0",
   "metadata": {},
   "outputs": [],
   "source": [
    "model = GroceryModel(config)"
   ]
  },
  {
   "cell_type": "code",
   "execution_count": null,
   "id": "579e82a0",
   "metadata": {},
   "outputs": [],
   "source": [
    "# from .AgentBasedModelling-project.mesamodel.server import GroceryServer\n",
    "from server import GroceryServer"
   ]
  },
  {
   "cell_type": "code",
   "execution_count": null,
   "id": "edd27c34",
   "metadata": {
    "scrolled": true
   },
   "outputs": [],
   "source": [
    "model.run_model()"
   ]
  },
  {
   "cell_type": "code",
   "execution_count": null,
   "id": "1fbeea72",
   "metadata": {
    "scrolled": false
   },
   "outputs": [],
   "source": [
    "g = model.graph\n",
    "\n",
    "plt.figure(figsize=(config[\"width\"], config[\"height\"]))\n",
    "pos = {(x,y):(x,-y) for x,y in g.nodes()}\n",
    "\n",
    "val_map = {}\n",
    "for x, y in pos:\n",
    "#     if x == 0 or x == config[\"width\"]-1 or y == 0 or y == config[\"height\"]-1:\n",
    "#         val_map[(x,y)] = 0.0\n",
    "        \n",
    "    for coords in model.objectives.values():\n",
    "        if (x,y) in coords:\n",
    "            val_map[(x,y)] = 0.5\n",
    "            \n",
    "    if (x,y) in [obj.pos for obj in model.obstacles]:\n",
    "        val_map[(x,y)] = 0.0\n",
    "        \n",
    "values = [val_map.get(node, 0.25) for node in g.nodes()]\n",
    "\n",
    "nx.draw(g, pos=pos, \n",
    "        node_color=values, \n",
    "        node_size=600)"
   ]
  },
  {
   "cell_type": "code",
   "execution_count": null,
   "id": "6c54947e",
   "metadata": {},
   "outputs": [],
   "source": [
    "# print(g.edges)"
   ]
  },
  {
   "cell_type": "code",
   "execution_count": null,
   "id": "a9345843",
   "metadata": {},
   "outputs": [],
   "source": [
    "data = model.datacollector.get_model_vars_dataframe()"
   ]
  },
  {
   "cell_type": "code",
   "execution_count": null,
   "id": "6ead59d0",
   "metadata": {
    "scrolled": false
   },
   "outputs": [],
   "source": [
    "print(data)"
   ]
  },
  {
   "cell_type": "code",
   "execution_count": null,
   "id": "c3f0b239",
   "metadata": {},
   "outputs": [],
   "source": [
    "for row in data[\"densities\"]:\n",
    "    print(row)"
   ]
  },
  {
   "cell_type": "code",
   "execution_count": null,
   "id": "e58fb4fc",
   "metadata": {},
   "outputs": [],
   "source": []
  }
 ],
 "metadata": {
  "kernelspec": {
   "display_name": "Python 3 (ipykernel)",
   "language": "python",
   "name": "python3"
  },
  "language_info": {
   "codemirror_mode": {
    "name": "ipython",
    "version": 3
   },
   "file_extension": ".py",
   "mimetype": "text/x-python",
   "name": "python",
   "nbconvert_exporter": "python",
   "pygments_lexer": "ipython3",
   "version": "3.8.8"
  }
 },
 "nbformat": 4,
 "nbformat_minor": 5
}
