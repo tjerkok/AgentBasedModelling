{
 "cells": [
  {
   "cell_type": "code",
   "execution_count": 8,
   "id": "4a4ad1ac",
   "metadata": {},
   "outputs": [],
   "source": [
    "import matplotlib.pyplot as plt\n",
    "import numpy as np\n",
    "from load import local_SA, load_SA"
   ]
  },
  {
   "cell_type": "code",
   "execution_count": 9,
   "id": "da39cd25",
   "metadata": {},
   "outputs": [],
   "source": [
    "data = load_SA(\"local_SA_data.pkl\")"
   ]
  },
  {
   "cell_type": "code",
   "execution_count": 10,
   "id": "4ee31ba8",
   "metadata": {},
   "outputs": [
    {
     "name": "stdout",
     "output_type": "stream",
     "text": [
      "{'avg_arrival': [(3.0, {'mean_interactions': [16.195121951219512], 'mean_steps': [162.609756097561], 'mean_distance': [282.7560975609756]}), (4.0, {'mean_interactions': [10.379310344827585], 'mean_steps': [199.79310344827587], 'mean_distance': [270.13793103448273]}), (5.0, {'mean_interactions': [3.0714285714285716], 'mean_steps': [101.78571428571429], 'mean_distance': [215.92857142857142]}), (6.0, {'mean_interactions': [5.45], 'mean_steps': [182.3], 'mean_distance': [247.2]}), (7.0, {'mean_interactions': [4.071428571428571], 'mean_steps': [186.07142857142858], 'mean_distance': [243.28571428571428]})]}\n"
     ]
    }
   ],
   "source": [
    "print(data)\n"
   ]
  },
  {
   "cell_type": "code",
   "execution_count": 15,
   "id": "74fbdb88",
   "metadata": {},
   "outputs": [
    {
     "name": "stdout",
     "output_type": "stream",
     "text": [
      "avg arrival, interactions, timesteps, distance\n"
     ]
    },
    {
     "ename": "KeyError",
     "evalue": "'mean_time_steps'",
     "output_type": "error",
     "traceback": [
      "\u001b[0;31m---------------------------------------------------------------------------\u001b[0m",
      "\u001b[0;31mKeyError\u001b[0m                                  Traceback (most recent call last)",
      "Input \u001b[0;32mIn [15]\u001b[0m, in \u001b[0;36m<module>\u001b[0;34m\u001b[0m\n\u001b[1;32m      6\u001b[0m \u001b[38;5;28;01mfor\u001b[39;00m data_i \u001b[38;5;129;01min\u001b[39;00m avg_arrival_data:\n\u001b[1;32m      7\u001b[0m     x \u001b[38;5;241m=\u001b[39m data_i[\u001b[38;5;241m0\u001b[39m]\n\u001b[0;32m----> 8\u001b[0m     interactions, time_steps, distance \u001b[38;5;241m=\u001b[39m [data_i[\u001b[38;5;241m1\u001b[39m][\u001b[38;5;124m\"\u001b[39m\u001b[38;5;124mmean_interactions\u001b[39m\u001b[38;5;124m\"\u001b[39m]], [\u001b[43mdata_i\u001b[49m\u001b[43m[\u001b[49m\u001b[38;5;241;43m1\u001b[39;49m\u001b[43m]\u001b[49m\u001b[43m[\u001b[49m\u001b[38;5;124;43m\"\u001b[39;49m\u001b[38;5;124;43mmean_time_steps\u001b[39;49m\u001b[38;5;124;43m\"\u001b[39;49m\u001b[43m]\u001b[49m], [data_i[\u001b[38;5;241m1\u001b[39m][\u001b[38;5;124m\"\u001b[39m\u001b[38;5;124mmean_distance\u001b[39m\u001b[38;5;124m\"\u001b[39m]]\n\u001b[1;32m      9\u001b[0m     \u001b[38;5;28mprint\u001b[39m(x, np\u001b[38;5;241m.\u001b[39mmean(interactions), np\u001b[38;5;241m.\u001b[39mmean(steps), np\u001b[38;5;241m.\u001b[39mmean(distance))\n\u001b[1;32m     10\u001b[0m     ax1\u001b[38;5;241m.\u001b[39merrorbar(x, np\u001b[38;5;241m.\u001b[39mmean(interactions), yerr\u001b[38;5;241m=\u001b[39mnp\u001b[38;5;241m.\u001b[39mstd(interactions), fmt\u001b[38;5;241m=\u001b[39m\u001b[38;5;124m\"\u001b[39m\u001b[38;5;124mk.\u001b[39m\u001b[38;5;124m\"\u001b[39m, ecolor\u001b[38;5;241m=\u001b[39m\u001b[38;5;124m\"\u001b[39m\u001b[38;5;124mgray\u001b[39m\u001b[38;5;124m\"\u001b[39m)\n",
      "\u001b[0;31mKeyError\u001b[0m: 'mean_time_steps'"
     ]
    },
    {
     "data": {
      "image/png": "[encoded data removed]",
      "text/plain": [
       "<Figure size 432x288 with 1 Axes>"
      ]
     },
     "metadata": {
      "needs_background": "light"
     },
     "output_type": "display_data"
    },
    {
     "data": {
      "image/png": "[encoded data removed]",
      "text/plain": [
       "<Figure size 432x288 with 1 Axes>"
      ]
     },
     "metadata": {
      "needs_background": "light"
     },
     "output_type": "display_data"
    },
    {
     "data": {
      "image/png": "[encoded data removed]",
      "text/plain": [
       "<Figure size 432x288 with 1 Axes>"
      ]
     },
     "metadata": {
      "needs_background": "light"
     },
     "output_type": "display_data"
    }
   ],
   "source": [
    "fig1, ax1 = plt.subplots()\n",
    "fig2, ax2 = plt.subplots()\n",
    "fig3, ax3 = plt.subplots()\n",
    "avg_arrival_data = data[\"avg_arrival\"]\n",
    "print(\"avg arrival, interactions, timesteps, distance\")\n",
    "for data_i in avg_arrival_data:\n",
    "    x = data_i[0]\n",
    "    interactions, time_steps, distance = [data_i[1][\"mean_interactions\"]], [data_i[1][\"mean_time_steps\"]], [data_i[1][\"mean_distance\"]]\n",
    "    print(x, np.mean(interactions), np.mean(steps), np.mean(distance))\n",
    "    ax1.errorbar(x, np.mean(interactions), yerr=np.std(interactions), fmt=\"k.\", ecolor=\"gray\")\n",
    "    ax2.errorbar(x, np.mean(steps), yerr=np.std(steps), fmt=\"k.\", ecolor=\"gray\")\n",
    "    ax3.errorbar(x, np.mean(distance), yerr=np.std(distance), fmt=\"k.\", ecolor=\"gray\")\n",
    "    \n",
    "ax1.set_ylabel(\"interactions\")\n",
    "ax1.set_xlabel(\"avg arrival rate\")\n",
    "ax2.set_ylabel(\"time steps\")\n",
    "ax2.set_xlabel(\"avg arrival rate\")\n",
    "ax3.set_ylabel(\"distance\")\n",
    "ax3.set_xlabel(\"avg arrival rate\")"
   ]
  },
  {
   "cell_type": "code",
   "execution_count": null,
   "id": "435655a8",
   "metadata": {},
   "outputs": [],
   "source": []
  }
 ],
 "metadata": {
  "kernelspec": {
   "display_name": "Python 3 (ipykernel)",
   "language": "python",
   "name": "python3"
  },
  "language_info": {
   "codemirror_mode": {
    "name": "ipython",
    "version": 3
   },
   "file_extension": ".py",
   "mimetype": "text/x-python",
   "name": "python",
   "nbconvert_exporter": "python",
   "pygments_lexer": "ipython3",
   "version": "3.8.8"
  }
 },
 "nbformat": 4,
 "nbformat_minor": 5
}
