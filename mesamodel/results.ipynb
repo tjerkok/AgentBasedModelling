{
 "cells": [
  {
   "cell_type": "code",
   "execution_count": 9,
   "id": "1d21b93a",
   "metadata": {},
   "outputs": [],
   "source": [
    "import matplotlib.pyplot as plt\n",
    "import numpy as np\n",
    "import scipy.stats as stats\n",
    "from load import local_SA, load_SA"
   ]
  },
  {
   "cell_type": "code",
   "execution_count": 3,
   "id": "c5abb1c1",
   "metadata": {},
   "outputs": [],
   "source": [
    "data_more = load_SA(\"more_data.pkl\")\n",
    "data_less = load_SA(\"local_SA_data_speed2.pkl\")[\"speed2\"][2][1]"
   ]
  },
  {
   "cell_type": "code",
   "execution_count": 4,
   "id": "8727ece2",
   "metadata": {},
   "outputs": [
    {
     "name": "stdout",
     "output_type": "stream",
     "text": [
      "{'mean_interactions': [24.12807881773399, 24.385245901639344, 24.0, 25.69808306709265, 24.57443365695793, 22.525790349417637, 25.576329331046313, 28.463108320251177, 25.233390119250426, 27.71656050955414], 'mean_time_steps': [153.5878489326765, 160.99344262295082, 164.40344827586208, 164.21725239616615, 157.37540453074433, 152.67054908485858, 174.97084048027443, 170.72684458398743, 166.96592844974447, 168.09872611464968], 'mean_distance': [240.4105090311987, 239.00983606557378, 248.94137931034481, 243.93929712460064, 237.2766990291262, 229.4875207986689, 256.4271012006861, 246.2558869701727, 244.98977853492335, 245.77388535031847]} \n",
      "\n",
      "{'mean_interactions': [29.488536155202823, 32.2418524871355, 30.15156507413509, 31.421404682274247, 37.0188679245283, 29.07207207207207, 37.097133757961785, 31.5712, 35.614664586583466, 30.82716049382716], 'mean_time_steps': [191.53086419753086, 192.02229845626073, 181.40691927512356, 194.9314381270903, 206.1933962264151, 196.23963963963965, 206.44745222929936, 186.1712, 204.45085803432139, 201.16754850088182], 'mean_distance': [280.65608465608466, 286.0377358490566, 281.54695222405275, 278.11036789297657, 299.53930817610063, 288.5657657657658, 298.78025477707007, 280.4288, 292.74882995319814, 291.75485008818345]} \n",
      "\n"
     ]
    }
   ],
   "source": [
    "print(data_more, \"\\n\")\n",
    "print(data_less, \"\\n\")"
   ]
  },
  {
   "cell_type": "code",
   "execution_count": 21,
   "id": "a88ff8b2",
   "metadata": {},
   "outputs": [
    {
     "name": "stdout",
     "output_type": "stream",
     "text": [
      "avg arrival, interactions, distance\n"
     ]
    },
    {
     "data": {
      "image/png": "[encoded data removed]",
      "text/plain": [
       "<Figure size 432x288 with 1 Axes>"
      ]
     },
     "metadata": {
      "needs_background": "light"
     },
     "output_type": "display_data"
    },
    {
     "data": {
      "image/png": "[encoded data removed]",
      "text/plain": [
       "<Figure size 432x288 with 1 Axes>"
      ]
     },
     "metadata": {
      "needs_background": "light"
     },
     "output_type": "display_data"
    }
   ],
   "source": [
    "fig1, ax1 = plt.subplots()\n",
    "fig2, ax2 = plt.subplots()\n",
    "# data = data_avg_arrival[\"avg_arrival\"]\n",
    "print(\"avg arrival, interactions, distance\")\n",
    "\n",
    "# more\n",
    "interactions, time_steps, distance = [data_more[\"mean_interactions\"]][0], [data_more[\"mean_time_steps\"]][0], [data_more[\"mean_distance\"]][0]\n",
    "boxplot_interactions = [interactions]\n",
    "boxplot_distance = [0.5*np.array(distance)]\n",
    "\n",
    "# less\n",
    "interactions, time_steps, distance = [data_less[\"mean_interactions\"]][0], [data_less[\"mean_time_steps\"]][0], [data_less[\"mean_distance\"]][0]\n",
    "boxplot_interactions.append(interactions)\n",
    "boxplot_distance.append(0.5*np.array(distance))\n",
    "\n",
    "ax1.boxplot(boxplot_interactions)\n",
    "ax2.boxplot(boxplot_distance)\n",
    "ax1.set_ylabel(\"interactions\", fontsize=12)\n",
    "ax1.set_xlabel(\"supermarket layout\", fontsize=12)\n",
    "ax2.set_ylabel(\"distance [m]\", fontsize=12)\n",
    "ax2.set_xlabel(\"supermarket layout\", fontsize=12)\n",
    "\n",
    "# ax1.set_xticks(np.arange(-0.5, 2, 0.5))\n",
    "ax1.set_xticklabels([\"free form\", \"grid\"], fontsize=12)\n",
    "# ax2.set_xticks(np.arange(-1, 3, 1))\n",
    "ax2.set_xticklabels([\"free form\", \"grid\"], fontsize=12)\n",
    "\n",
    "# ax1.set_xticks(np.arange(-0.5, 2, 0.5))\n",
    "# ax1.set_xticklabels([\"\", \"free form\", \"\", \"grid\", \"\"], fontsize=12)\n",
    "# ax2.set_xticks(np.arange(-1, 3, 1))\n",
    "# ax2.set_xticklabels([\"\", \"free form\", \"grid\", \"\"], fontsize=12)\n",
    "\n",
    "fig1.savefig(\"figs/results_interactions\", dpi=300, bbox_inches=\"tight\")\n",
    "fig2.savefig(\"figs/results_distance\", dpi=300, bbox_inches=\"tight\")"
   ]
  },
  {
   "cell_type": "code",
   "execution_count": 24,
   "id": "82fe6723",
   "metadata": {},
   "outputs": [
    {
     "name": "stdout",
     "output_type": "stream",
     "text": [
      "welch (14) interactions ttest free form on grid:\n",
      "Ttest_indResult(statistic=-6.51288052914386, pvalue=4.010989482247593e-06) \n",
      "\n",
      "Welch-Satterthwaite Degrees of Freedom= 14.5049\n",
      "welch (17) distance ttest free form on grid:\n",
      "Ttest_indResult(statistic=-13.259969682681211, pvalue=9.953353491568054e-11)\n",
      "Welch-Satterthwaite Degrees of Freedom= 17.9278\n"
     ]
    }
   ],
   "source": [
    "def welch_dof(x,y):\n",
    "        dof = (np.var(x)/len(x) + np.var(y)/len(y))**2 / ((np.var(x)/len(x))**2 / (len(x)-1) + (np.var(y)/len(y))**2 / (len(y)-1))\n",
    "        print(f\"Welch-Satterthwaite Degrees of Freedom= {dof:.4f}\")\n",
    "        \n",
    "interactions_ttest = stats.ttest_ind(boxplot_interactions[0], boxplot_interactions[1])\n",
    "distance_ttest = stats.ttest_ind(boxplot_distance[0], boxplot_distance[1])\n",
    "print(\"welch (14) interactions ttest free form on grid:\")\n",
    "print(interactions_ttest, \"\\n\")\n",
    "welch_dof(boxplot_interactions[0], boxplot_interactions[1])\n",
    "print(\"welch (17) distance ttest free form on grid:\")\n",
    "print(distance_ttest)\n",
    "welch_dof(boxplot_distance[0], boxplot_distance[1])"
   ]
  },
  {
   "cell_type": "code",
   "execution_count": null,
   "id": "3dfb44e4",
   "metadata": {},
   "outputs": [],
   "source": []
  }
 ],
 "metadata": {
  "kernelspec": {
   "display_name": "Python 3 (ipykernel)",
   "language": "python",
   "name": "python3"
  },
  "language_info": {
   "codemirror_mode": {
    "name": "ipython",
    "version": 3
   },
   "file_extension": ".py",
   "mimetype": "text/x-python",
   "name": "python",
   "nbconvert_exporter": "python",
   "pygments_lexer": "ipython3",
   "version": "3.8.8"
  }
 },
 "nbformat": 4,
 "nbformat_minor": 5
}
