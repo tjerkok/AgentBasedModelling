{
 "cells": [
  {
   "cell_type": "code",
   "execution_count": 36,
   "id": "4a4ad1ac",
   "metadata": {},
   "outputs": [],
   "source": [
    "import matplotlib.pyplot as plt\n",
    "import numpy as np\n",
    "from load import parameter_change, load_SA"
   ]
  },
  {
   "cell_type": "code",
   "execution_count": 37,
   "id": "da39cd25",
   "metadata": {},
   "outputs": [],
   "source": [
    "data = load_SA(\"SA_data.pkl\")"
   ]
  },
  {
   "cell_type": "code",
   "execution_count": 38,
   "id": "4ee31ba8",
   "metadata": {},
   "outputs": [
    {
     "name": "stdout",
     "output_type": "stream",
     "text": [
      "[{'changed_pars': {'avg_arrival': 5.0, 'speed2': 4.0, 'speed2_prob': 0.9, 'familiar2': 0.7, 'familiar2_prob': 0.1, 'vision2': 8.0, 'vision2_prob': 0.1}, 'steps': [40.5, 137.66666666666666, 113.4, 137.0, 91.4], 'interactions': [1.0, 1.3333333333333333, 1.6, 2.0, 2.0]}, {'changed_pars': {'avg_arrival': 4.0, 'speed2': 1.0, 'speed2_prob': 0.4, 'familiar2': 1.0999999999999999, 'familiar2_prob': 0.8, 'vision2': 10.0, 'vision2_prob': 0.9}, 'steps': [302.1666666666667, 402.0, 208.4, 191.66666666666666, 367.0], 'interactions': [3.5, 1.0, 2.8, 0.3333333333333333, 3.6]}]\n"
     ]
    }
   ],
   "source": [
    "print(data)\n"
   ]
  },
  {
   "cell_type": "code",
   "execution_count": 48,
   "id": "74fbdb88",
   "metadata": {},
   "outputs": [
    {
     "name": "stdout",
     "output_type": "stream",
     "text": [
      "[1.0, 1.3333333333333333, 1.6, 2.0, 2.0]\n",
      "1.5866666666666667\n",
      "0 {'avg_arrival': 5.0, 'speed2': 4.0, 'speed2_prob': 0.9, 'familiar2': 0.7, 'familiar2_prob': 0.1, 'vision2': 8.0, 'vision2_prob': 0.1}\n",
      "1 {'avg_arrival': 4.0, 'speed2': 1.0, 'speed2_prob': 0.4, 'familiar2': 1.0999999999999999, 'familiar2_prob': 0.8, 'vision2': 10.0, 'vision2_prob': 0.9}\n"
     ]
    },
    {
     "data": {
      "text/plain": [
       "Text(0.5, 0, 'pars combination')"
      ]
     },
     "execution_count": 48,
     "metadata": {},
     "output_type": "execute_result"
    },
    {
     "data": {
      "image/png": "[encoded data removed]",
      "text/plain": [
       "<Figure size 432x288 with 1 Axes>"
      ]
     },
     "metadata": {
      "needs_background": "light"
     },
     "output_type": "display_data"
    }
   ],
   "source": [
    "fig, ax = plt.subplots()\n",
    "print(data[0][\"interactions\"])\n",
    "print(np.mean(data[0][\"interactions\"]))\n",
    "for i, data_i in enumerate(data):\n",
    "    print(i, data_i[\"changed_pars\"])\n",
    "    ax.plot(i, np.mean(data_i[\"interactions\"]), 'b.')\n",
    "    ax.errorbar(i, np.mean(data_i[\"interactions\"]), np.std(data_i[\"interactions\"]))\n",
    "    \n",
    "ax.set_ylabel(\"interactions\")\n",
    "ax.set_xlabel(\"pars combination\")"
   ]
  },
  {
   "cell_type": "code",
   "execution_count": 49,
   "id": "b30f8698",
   "metadata": {},
   "outputs": [
    {
     "name": "stdout",
     "output_type": "stream",
     "text": [
      "[40.5, 137.66666666666666, 113.4, 137.0, 91.4]\n",
      "103.99333333333334\n",
      "0 {'avg_arrival': 5.0, 'speed2': 4.0, 'speed2_prob': 0.9, 'familiar2': 0.7, 'familiar2_prob': 0.1, 'vision2': 8.0, 'vision2_prob': 0.1}\n",
      "1 {'avg_arrival': 4.0, 'speed2': 1.0, 'speed2_prob': 0.4, 'familiar2': 1.0999999999999999, 'familiar2_prob': 0.8, 'vision2': 10.0, 'vision2_prob': 0.9}\n"
     ]
    },
    {
     "data": {
      "text/plain": [
       "Text(0.5, 0, 'pars combination')"
      ]
     },
     "execution_count": 49,
     "metadata": {},
     "output_type": "execute_result"
    },
    {
     "data": {
      "image/png": "[encoded data removed]",
      "text/plain": [
       "<Figure size 432x288 with 1 Axes>"
      ]
     },
     "metadata": {
      "needs_background": "light"
     },
     "output_type": "display_data"
    }
   ],
   "source": [
    "fig, ax = plt.subplots()\n",
    "print(data[0][\"steps\"])\n",
    "print(np.mean(data[0][\"steps\"]))\n",
    "for i, data_i in enumerate(data):\n",
    "    print(i, data_i[\"changed_pars\"])\n",
    "    ax.plot(i, np.mean(data_i[\"steps\"]), 'b.')\n",
    "    ax.errorbar(i, np.mean(data_i[\"steps\"]), np.std(data_i[\"steps\"]))\n",
    "    \n",
    "ax.set_ylabel(\"steps\")\n",
    "ax.set_xlabel(\"pars combination\")"
   ]
  },
  {
   "cell_type": "code",
   "execution_count": null,
   "id": "435655a8",
   "metadata": {},
   "outputs": [],
   "source": []
  }
 ],
 "metadata": {
  "kernelspec": {
   "display_name": "Python 3 (ipykernel)",
   "language": "python",
   "name": "python3"
  },
  "language_info": {
   "codemirror_mode": {
    "name": "ipython",
    "version": 3
   },
   "file_extension": ".py",
   "mimetype": "text/x-python",
   "name": "python",
   "nbconvert_exporter": "python",
   "pygments_lexer": "ipython3",
   "version": "3.8.8"
  }
 },
 "nbformat": 4,
 "nbformat_minor": 5
}
