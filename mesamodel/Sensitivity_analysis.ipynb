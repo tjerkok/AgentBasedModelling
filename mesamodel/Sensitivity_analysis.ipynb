{
 "cells": [
  {
   "cell_type": "code",
   "execution_count": 1,
   "id": "4a4ad1ac",
   "metadata": {},
   "outputs": [],
   "source": [
    "from load import parameter_change"
   ]
  },
  {
   "cell_type": "code",
   "execution_count": 2,
   "id": "d5a97156",
   "metadata": {
    "scrolled": false
   },
   "outputs": [
    {
     "name": "stdout",
     "output_type": "stream",
     "text": [
      "set avg_arrival to 1.0\n",
      "set avg_arrival to 3.0\n",
      "set avg_arrival to 5.0\n",
      "set avg_arrival to 7.0\n",
      "set avg_arrival to 9.0\n",
      "set avg_arrival to 11.0\n",
      "set speed2 to 2.0\n",
      "set speed2 to 3.0\n",
      "set speed2 to 4.0\n",
      "set speed2 to 5.0\n",
      "set speed2_prob to 0.0\n",
      "set speed2_prob to 0.1\n",
      "set speed2_prob to 0.2\n",
      "set speed2_prob to 0.30000000000000004\n",
      "set speed2_prob to 0.4\n",
      "set speed2_prob to 0.5\n",
      "set speed2_prob to 0.6000000000000001\n",
      "set speed2_prob to 0.7000000000000001\n",
      "set speed2_prob to 0.8\n",
      "set speed2_prob to 0.9\n",
      "set speed2_prob to 1.0\n",
      "set familiar2 to 0.5\n",
      "set familiar2 to 0.6\n",
      "set familiar2 to 0.7\n",
      "set familiar2 to 0.7999999999999999\n",
      "set familiar2 to 0.8999999999999999\n",
      "set familiar2 to 0.9999999999999999\n",
      "set familiar2 to 1.0999999999999999\n",
      "set familiar2_prob to 0.0\n",
      "set familiar2_prob to 0.1\n",
      "set familiar2_prob to 0.2\n",
      "set familiar2_prob to 0.30000000000000004\n",
      "set familiar2_prob to 0.4\n",
      "set familiar2_prob to 0.5\n",
      "set familiar2_prob to 0.6000000000000001\n",
      "set familiar2_prob to 0.7000000000000001\n",
      "set familiar2_prob to 0.8\n",
      "set familiar2_prob to 0.9\n",
      "set familiar2_prob to 1.0\n",
      "set vision2 to 4.0\n",
      "set vision2 to 5.0\n",
      "set vision2 to 6.0\n",
      "set vision2 to 7.0\n",
      "set vision2 to 8.0\n",
      "set vision2 to 9.0\n",
      "set vision2 to 10.0\n",
      "set vision2_prob to 0.0\n",
      "set vision2_prob to 0.1\n",
      "set vision2_prob to 0.2\n",
      "set vision2_prob to 0.30000000000000004\n",
      "set vision2_prob to 0.4\n",
      "set vision2_prob to 0.5\n",
      "set vision2_prob to 0.6000000000000001\n",
      "set vision2_prob to 0.7000000000000001\n",
      "set vision2_prob to 0.8\n",
      "set vision2_prob to 0.9\n",
      "set vision2_prob to 1.0\n"
     ]
    }
   ],
   "source": [
    "data = parameter_change(5, \"SA_parameter_change.txt\")"
   ]
  },
  {
   "cell_type": "code",
   "execution_count": 3,
   "id": "c4dea507",
   "metadata": {},
   "outputs": [
    {
     "name": "stdout",
     "output_type": "stream",
     "text": [
      "dict_keys(['avg_arrival', 'speed2', 'speed2_prob', 'familiar2', 'familiar2_prob', 'vision2', 'vision2_prob'])\n"
     ]
    }
   ],
   "source": [
    "print(data.keys())"
   ]
  },
  {
   "cell_type": "code",
   "execution_count": null,
   "id": "4ee31ba8",
   "metadata": {},
   "outputs": [],
   "source": []
  }
 ],
 "metadata": {
  "kernelspec": {
   "display_name": "Python 3 (ipykernel)",
   "language": "python",
   "name": "python3"
  },
  "language_info": {
   "codemirror_mode": {
    "name": "ipython",
    "version": 3
   },
   "file_extension": ".py",
   "mimetype": "text/x-python",
   "name": "python",
   "nbconvert_exporter": "python",
   "pygments_lexer": "ipython3",
   "version": "3.8.8"
  }
 },
 "nbformat": 4,
 "nbformat_minor": 5
}
